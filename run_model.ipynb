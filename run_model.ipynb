{
 "cells": [
  {
   "cell_type": "code",
   "execution_count": 73,
   "metadata": {},
   "outputs": [],
   "source": [
    "import pandas as pd\n",
    "import numpy as np\n",
    "import matplotlib.pyplot as plt\n",
    "from tqdm import tqdm"
   ]
  },
  {
   "cell_type": "code",
   "execution_count": 74,
   "metadata": {},
   "outputs": [],
   "source": [
    "from sklearn.model_selection import train_test_split\n",
    "import torch\n",
    "import torch.nn as nn\n",
    "import torch.optim as optim\n",
    "from torchinfo import summary"
   ]
  },
  {
   "cell_type": "code",
   "execution_count": 75,
   "metadata": {},
   "outputs": [],
   "source": [
    "HIDDEN_UNITS = 256\n",
    "INPUT_UNITS = 218"
   ]
  },
  {
   "cell_type": "code",
   "execution_count": 92,
   "metadata": {},
   "outputs": [],
   "source": [
    "class Net(nn.Module):\n",
    "    def __init__(self):\n",
    "        super(Net, self).__init__()\n",
    "        self.hidden1 = nn.Linear(INPUT_UNITS, 2 * HIDDEN_UNITS)\n",
    "        self.hidden_active1 = nn.ReLU()\n",
    "        self.hidden2 = nn.Linear(2 * HIDDEN_UNITS, HIDDEN_UNITS)\n",
    "        self.hidden_active2 = nn.ReLU()\n",
    "        self.hidden3 = nn.Linear(HIDDEN_UNITS, HIDDEN_UNITS)\n",
    "        self.hidden_active3 = nn.ReLU()\n",
    "        self.hidden4 = nn.Linear(HIDDEN_UNITS, HIDDEN_UNITS)\n",
    "        self.hidden_active4 = nn.ReLU()\n",
    "        self.out = nn.Linear(HIDDEN_UNITS, 1)\n",
    "        self.loss = nn.MSELoss()\n",
    "\n",
    "    def forward(self, x):\n",
    "        x = self.hidden1(x)\n",
    "        x = self.hidden_active1(x)\n",
    "        x = self.hidden2(x)\n",
    "        x = self.hidden_active2(x)\n",
    "        x = self.hidden3(x)\n",
    "        x = self.hidden_active3(x)\n",
    "        x = self.hidden4(x)\n",
    "        x = self.hidden_active4(x)\n",
    "        x = self.out(x)\n",
    "        return x"
   ]
  },
  {
   "cell_type": "code",
   "execution_count": 93,
   "metadata": {},
   "outputs": [
    {
     "data": {
      "text/plain": [
       "==========================================================================================\n",
       "Layer (type:depth-idx)                   Output Shape              Param #\n",
       "==========================================================================================\n",
       "Net                                      [1, 1]                    --\n",
       "├─Linear: 1-1                            [1, 512]                  112,128\n",
       "├─ReLU: 1-2                              [1, 512]                  --\n",
       "├─Linear: 1-3                            [1, 256]                  131,328\n",
       "├─ReLU: 1-4                              [1, 256]                  --\n",
       "├─Linear: 1-5                            [1, 256]                  65,792\n",
       "├─ReLU: 1-6                              [1, 256]                  --\n",
       "├─Linear: 1-7                            [1, 256]                  65,792\n",
       "├─ReLU: 1-8                              [1, 256]                  --\n",
       "├─Linear: 1-9                            [1, 1]                    257\n",
       "==========================================================================================\n",
       "Total params: 375,297\n",
       "Trainable params: 375,297\n",
       "Non-trainable params: 0\n",
       "Total mult-adds (M): 0.38\n",
       "==========================================================================================\n",
       "Input size (MB): 0.00\n",
       "Forward/backward pass size (MB): 0.01\n",
       "Params size (MB): 1.50\n",
       "Estimated Total Size (MB): 1.51\n",
       "=========================================================================================="
      ]
     },
     "execution_count": 93,
     "metadata": {},
     "output_type": "execute_result"
    }
   ],
   "source": [
    "model = Net()\n",
    "summary(model, input_size=(1, 218))"
   ]
  },
  {
   "cell_type": "code",
   "execution_count": 94,
   "metadata": {},
   "outputs": [],
   "source": [
    "X = pd.read_csv('X_10_no_bombs.csv')\n",
    "y = pd.read_csv('y_10_no_bombs.csv')\n",
    "\n",
    "X_train, X_test, y_train, y_test = train_test_split(X, y, test_size=0.2, random_state=42)"
   ]
  },
  {
   "cell_type": "code",
   "execution_count": 95,
   "metadata": {},
   "outputs": [
    {
     "name": "stdout",
     "output_type": "stream",
     "text": [
      "(35405, 218)\n",
      "(35405, 218)\n"
     ]
    }
   ],
   "source": [
    "print(X.shape)\n",
    "X.dropna(inplace=True)\n",
    "print(X.shape)"
   ]
  },
  {
   "cell_type": "code",
   "execution_count": 96,
   "metadata": {},
   "outputs": [],
   "source": [
    "X_train = X_train.values\n",
    "X_test = X_test.values\n",
    "y_train = y_train.values\n",
    "y_test = y_test.values"
   ]
  },
  {
   "cell_type": "code",
   "execution_count": 97,
   "metadata": {},
   "outputs": [],
   "source": [
    "X_train = torch.tensor(X_train, dtype=torch.float32)\n",
    "y_train = torch.tensor(y_train, dtype=torch.float32)\n",
    "\n",
    "X_test = torch.tensor(X_test, dtype=torch.float32)\n",
    "y_test = torch.tensor(y_test, dtype=torch.float32)"
   ]
  },
  {
   "cell_type": "code",
   "execution_count": 98,
   "metadata": {},
   "outputs": [
    {
     "data": {
      "text/plain": [
       "torch.Size([28324, 218])"
      ]
     },
     "execution_count": 98,
     "metadata": {},
     "output_type": "execute_result"
    }
   ],
   "source": [
    "X_train.shape"
   ]
  },
  {
   "cell_type": "code",
   "execution_count": 99,
   "metadata": {},
   "outputs": [],
   "source": [
    "BATCH_SIZE = 32\n",
    "train_dataset = torch.utils.data.TensorDataset(X_train, y_train)\n",
    "train_loader = torch.utils.data.DataLoader(train_dataset, batch_size=BATCH_SIZE, shuffle=True)\n",
    "test_dataset = torch.utils.data.TensorDataset(X_test, y_test)\n",
    "test_loader = torch.utils.data.DataLoader(test_dataset, batch_size=BATCH_SIZE, shuffle=False)\n",
    "loss_list = []\n",
    "def train(model, train_loader, optimizer, criterion):\n",
    "    model.train()\n",
    "    running_loss = 0.0\n",
    "    for batch_idx, (data, target) in enumerate(train_loader):\n",
    "        optimizer.zero_grad()\n",
    "        output = model(data)\n",
    "        loss = criterion(output, target)\n",
    "        loss.backward()\n",
    "        optimizer.step()\n",
    "        running_loss += loss.item()\n",
    "    loss_list.append(running_loss / len(train_loader))"
   ]
  },
  {
   "cell_type": "code",
   "execution_count": 100,
   "metadata": {},
   "outputs": [
    {
     "name": "stderr",
     "output_type": "stream",
     "text": [
      "100%|██████████| 100/100 [05:57<00:00,  3.58s/it]\n"
     ]
    }
   ],
   "source": [
    "model = Net()\n",
    "for i in tqdm(range(100)):   \n",
    "    train(model, train_loader, optim.Adam(model.parameters(), lr=0.01), model.loss)"
   ]
  },
  {
   "cell_type": "code",
   "execution_count": 101,
   "metadata": {},
   "outputs": [
    {
     "data": {
      "text/plain": [
       "[23129.98443916958,\n",
       " 4925.2576638043065,\n",
       " 4646.482885201413,\n",
       " 4120.052220536139,\n",
       " 3961.8714409821728,\n",
       " 3886.954807427882,\n",
       " 3730.8756266781224,\n",
       " 3715.5655877175773,\n",
       " 3744.366905918509,\n",
       " 3654.8941954877523,\n",
       " 3622.762282498534,\n",
       " 3579.516376951747,\n",
       " 3576.8257245479267,\n",
       " 3632.843271156466,\n",
       " 3473.4072413735144,\n",
       " 3477.4841396770953,\n",
       " 3359.6778873073326,\n",
       " 3474.900165842026,\n",
       " 3392.022527724841,\n",
       " 3362.8688723045334,\n",
       " 3364.673560700083,\n",
       " 3325.462498202012,\n",
       " 3281.2984921216425,\n",
       " 3263.63915354296,\n",
       " 3276.0808586998933,\n",
       " 3244.3280334128212,\n",
       " 3329.0179747157385,\n",
       " 3288.3194302802162,\n",
       " 3299.6495951013158,\n",
       " 3326.2392840245507,\n",
       " 3303.649431870161,\n",
       " 3270.7052904391667,\n",
       " 3301.4224797027105,\n",
       " 3276.5900628152335,\n",
       " 3278.4970956978896,\n",
       " 3232.5668601903635,\n",
       " 3281.559675918476,\n",
       " 3275.1685170675237,\n",
       " 3242.4384112218163,\n",
       " 3238.626496721875,\n",
       " 3288.721264496883,\n",
       " 3261.15945889234,\n",
       " 3246.019592147379,\n",
       " 3231.3577331129636,\n",
       " 3270.165940364381,\n",
       " 3255.0014741781333,\n",
       " 3231.5953652272106,\n",
       " 3258.0624480581178,\n",
       " 3269.9910712317474,\n",
       " 3285.1110878076834,\n",
       " 3310.0681837094826,\n",
       " 3227.119159018213,\n",
       " 3242.0649811677954,\n",
       " 3197.746214476988,\n",
       " 3227.5685392771566,\n",
       " 3224.1666718907068,\n",
       " 3251.8290172086076,\n",
       " 3239.599068617982,\n",
       " 3254.8493188035677,\n",
       " 3272.5191117882996,\n",
       " 3220.2430789163905,\n",
       " 3236.265523492886,\n",
       " 3179.120223310139,\n",
       " 3252.895505332516,\n",
       " 3250.7864122928936,\n",
       " 3234.2673604719794,\n",
       " 3260.607393320742,\n",
       " 3231.080494590053,\n",
       " 3258.2324652402717,\n",
       " 3193.812076301661,\n",
       " 3177.4613165930755,\n",
       " 3163.6508885506314,\n",
       " 3210.715387486443,\n",
       " 3190.9635660761364,\n",
       " 3210.692958650955,\n",
       " 3212.8160556422936,\n",
       " 3212.824749363195,\n",
       " 3217.819573430391,\n",
       " 3185.9847774118116,\n",
       " 3215.7293449384633,\n",
       " 3209.2839178425465,\n",
       " 3162.846417808102,\n",
       " 3220.3861074339993,\n",
       " 3202.5452240885784,\n",
       " 3167.517923462741,\n",
       " 3265.0858324106875,\n",
       " 3262.586932042382,\n",
       " 3178.2121123923134,\n",
       " 3147.7835848702803,\n",
       " 3196.9710617926535,\n",
       " 3213.269380005434,\n",
       " 3220.869324384909,\n",
       " 3191.11577359925,\n",
       " 3198.437499517781,\n",
       " 3182.1241091691613,\n",
       " 3180.1891702346284,\n",
       " 3160.060728396035,\n",
       " 3175.577886663226,\n",
       " 3164.5390395601503,\n",
       " 3202.5869572555507]"
      ]
     },
     "execution_count": 101,
     "metadata": {},
     "output_type": "execute_result"
    }
   ],
   "source": [
    "loss_list"
   ]
  },
  {
   "cell_type": "code",
   "execution_count": 102,
   "metadata": {},
   "outputs": [
    {
     "data": {
      "text/plain": [
       "[<matplotlib.lines.Line2D at 0x13402382440>]"
      ]
     },
     "execution_count": 102,
     "metadata": {},
     "output_type": "execute_result"
    },
    {
     "data": {
      "image/png": "[encoded data removed]",
      "text/plain": [
       "<Figure size 640x480 with 1 Axes>"
      ]
     },
     "metadata": {},
     "output_type": "display_data"
    }
   ],
   "source": [
    "plt.plot(loss_list)"
   ]
  },
  {
   "cell_type": "code",
   "execution_count": 103,
   "metadata": {},
   "outputs": [
    {
     "name": "stderr",
     "output_type": "stream",
     "text": [
      "C:\\Users\\charl\\AppData\\Local\\Temp\\ipykernel_7808\\2067007474.py:6: UserWarning: To copy construct from a tensor, it is recommended to use sourceTensor.clone().detach() or sourceTensor.clone().detach().requires_grad_(True), rather than torch.tensor(sourceTensor).\n",
      "  x = torch.tensor(x, dtype=torch.float32)\n"
     ]
    },
    {
     "name": "stdout",
     "output_type": "stream",
     "text": [
      "3427.81201171875\n"
     ]
    }
   ],
   "source": [
    "# test\n",
    "model.eval()\n",
    "predictions = []\n",
    "for x in X_test:\n",
    "    x = x.reshape(1, 218)\n",
    "    x = torch.tensor(x, dtype=torch.float32)\n",
    "    y_pred = model.forward(x)\n",
    "    predictions.append(y_pred.item())\n",
    "\n",
    "model.score = model.loss(torch.tensor(predictions, dtype=torch.float32), y_test.squeeze())\n",
    "print(model.score.item())"
   ]
  },
  {
   "cell_type": "code",
   "execution_count": 104,
   "metadata": {},
   "outputs": [
    {
     "name": "stdout",
     "output_type": "stream",
     "text": [
      "0.8861103528129151\n"
     ]
    }
   ],
   "source": [
    "r = np.corrcoef(predictions, y_test.squeeze())\n",
    "print(r[0][1] ** 2)"
   ]
  },
  {
   "cell_type": "code",
   "execution_count": 105,
   "metadata": {},
   "outputs": [
    {
     "data": {
      "image/png": "[encoded data removed]",
      "text/plain": [
       "<Figure size 640x480 with 1 Axes>"
      ]
     },
     "metadata": {},
     "output_type": "display_data"
    }
   ],
   "source": [
    "plt.scatter(y_test, predictions)\n",
    "plt.xlabel('True Values')\n",
    "plt.ylabel('Predictions')\n",
    "plt.title('True vs Predicted Totals')\n",
    "plt.show()"
   ]
  }
 ],
 "metadata": {
  "kernelspec": {
   "display_name": "Python 3",
   "language": "python",
   "name": "python3"
  },
  "language_info": {
   "codemirror_mode": {
    "name": "ipython",
    "version": 3
   },
   "file_extension": ".py",
   "mimetype": "text/x-python",
   "name": "python",
   "nbconvert_exporter": "python",
   "pygments_lexer": "ipython3",
   "version": "3.10.0"
  }
 },
 "nbformat": 4,
 "nbformat_minor": 2
}
