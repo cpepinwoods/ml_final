{
 "cells": [
  {
   "cell_type": "code",
   "execution_count": 2,
   "metadata": {},
   "outputs": [],
   "source": [
    "import pandas as pd\n",
    "import numpy as np\n",
    "import matplotlib.pyplot as plt\n",
    "from tqdm import tqdm"
   ]
  },
  {
   "cell_type": "code",
   "execution_count": 3,
   "metadata": {},
   "outputs": [],
   "source": [
    "from sklearn.model_selection import train_test_split\n",
    "import torch\n",
    "import torch.nn as nn\n",
    "import torch.optim as optim\n",
    "from torchinfo import summary"
   ]
  },
  {
   "cell_type": "code",
   "execution_count": 4,
   "metadata": {},
   "outputs": [],
   "source": [
    "HIDDEN_UNITS = 256\n",
    "INPUT_UNITS = 218"
   ]
  },
  {
   "cell_type": "code",
   "execution_count": 5,
   "metadata": {},
   "outputs": [],
   "source": [
    "class Net(nn.Module):\n",
    "    def __init__(self):\n",
    "        super(Net, self).__init__()\n",
    "        self.hidden1 = nn.Linear(INPUT_UNITS, 2 * HIDDEN_UNITS)\n",
    "        self.hidden_active1 = nn.ReLU()\n",
    "        self.hidden2 = nn.Linear(2 * HIDDEN_UNITS, HIDDEN_UNITS)\n",
    "        self.hidden_active2 = nn.ReLU()\n",
    "        self.hidden3 = nn.Linear(HIDDEN_UNITS, HIDDEN_UNITS)\n",
    "        self.hidden_active3 = nn.ReLU()\n",
    "        self.hidden4 = nn.Linear(HIDDEN_UNITS, HIDDEN_UNITS)\n",
    "        self.hidden_active4 = nn.ReLU()\n",
    "        self.out = nn.Linear(HIDDEN_UNITS, 1)\n",
    "        self.loss = nn.MSELoss()\n",
    "\n",
    "    def forward(self, x):\n",
    "        x = self.hidden1(x)\n",
    "        x = self.hidden_active1(x)\n",
    "        x = self.hidden2(x)\n",
    "        x = self.hidden_active2(x)\n",
    "        x = self.hidden3(x)\n",
    "        x = self.hidden_active3(x)\n",
    "        x = self.hidden4(x)\n",
    "        x = self.hidden_active4(x)\n",
    "        x = self.out(x)\n",
    "        return x"
   ]
  },
  {
   "cell_type": "code",
   "execution_count": 6,
   "metadata": {},
   "outputs": [
    {
     "data": {
      "text/plain": [
       "==========================================================================================\n",
       "Layer (type:depth-idx)                   Output Shape              Param #\n",
       "==========================================================================================\n",
       "Net                                      [1, 1]                    --\n",
       "├─Linear: 1-1                            [1, 512]                  112,128\n",
       "├─ReLU: 1-2                              [1, 512]                  --\n",
       "├─Linear: 1-3                            [1, 256]                  131,328\n",
       "├─ReLU: 1-4                              [1, 256]                  --\n",
       "├─Linear: 1-5                            [1, 256]                  65,792\n",
       "├─ReLU: 1-6                              [1, 256]                  --\n",
       "├─Linear: 1-7                            [1, 256]                  65,792\n",
       "├─ReLU: 1-8                              [1, 256]                  --\n",
       "├─Linear: 1-9                            [1, 1]                    257\n",
       "==========================================================================================\n",
       "Total params: 375,297\n",
       "Trainable params: 375,297\n",
       "Non-trainable params: 0\n",
       "Total mult-adds (M): 0.38\n",
       "==========================================================================================\n",
       "Input size (MB): 0.00\n",
       "Forward/backward pass size (MB): 0.01\n",
       "Params size (MB): 1.50\n",
       "Estimated Total Size (MB): 1.51\n",
       "=========================================================================================="
      ]
     },
     "execution_count": 6,
     "metadata": {},
     "output_type": "execute_result"
    }
   ],
   "source": [
    "model = Net()\n",
    "summary(model, input_size=(1, 218))"
   ]
  },
  {
   "cell_type": "code",
   "execution_count": 7,
   "metadata": {},
   "outputs": [],
   "source": [
    "X = pd.read_csv('X_10_no_bombs.csv')\n",
    "y = pd.read_csv('y_10_no_bombs.csv')\n",
    "\n",
    "X_train, X_test, y_train, y_test = train_test_split(X, y, test_size=0.2, random_state=42)"
   ]
  },
  {
   "cell_type": "code",
   "execution_count": 8,
   "metadata": {},
   "outputs": [
    {
     "name": "stdout",
     "output_type": "stream",
     "text": [
      "(35405, 218)\n",
      "(35405, 218)\n"
     ]
    }
   ],
   "source": [
    "print(X.shape)\n",
    "X.dropna(inplace=True)\n",
    "print(X.shape)"
   ]
  },
  {
   "cell_type": "code",
   "execution_count": 9,
   "metadata": {},
   "outputs": [],
   "source": [
    "X_train = X_train.values\n",
    "X_test = X_test.values\n",
    "y_train = y_train.values\n",
    "y_test = y_test.values"
   ]
  },
  {
   "cell_type": "code",
   "execution_count": 10,
   "metadata": {},
   "outputs": [],
   "source": [
    "X_train = torch.tensor(X_train, dtype=torch.float32)\n",
    "y_train = torch.tensor(y_train, dtype=torch.float32)\n",
    "\n",
    "X_test = torch.tensor(X_test, dtype=torch.float32)\n",
    "y_test = torch.tensor(y_test, dtype=torch.float32)"
   ]
  },
  {
   "cell_type": "code",
   "execution_count": 11,
   "metadata": {},
   "outputs": [
    {
     "data": {
      "text/plain": [
       "torch.Size([28324, 218])"
      ]
     },
     "execution_count": 11,
     "metadata": {},
     "output_type": "execute_result"
    }
   ],
   "source": [
    "X_train.shape"
   ]
  },
  {
   "cell_type": "code",
   "execution_count": 12,
   "metadata": {},
   "outputs": [],
   "source": [
    "BATCH_SIZE = 32\n",
    "train_dataset = torch.utils.data.TensorDataset(X_train, y_train)\n",
    "train_loader = torch.utils.data.DataLoader(train_dataset, batch_size=BATCH_SIZE, shuffle=True)\n",
    "test_dataset = torch.utils.data.TensorDataset(X_test, y_test)\n",
    "test_loader = torch.utils.data.DataLoader(test_dataset, batch_size=BATCH_SIZE, shuffle=False)\n",
    "loss_list = []\n",
    "def train(model, train_loader, optimizer, criterion):\n",
    "    model.train()\n",
    "    running_loss = 0.0\n",
    "    for batch_idx, (data, target) in enumerate(train_loader):\n",
    "        optimizer.zero_grad()\n",
    "        output = model(data)\n",
    "        loss = criterion(output, target)\n",
    "        loss.backward()\n",
    "        optimizer.step()\n",
    "        running_loss += loss.item()\n",
    "    loss_list.append(running_loss / len(train_loader))"
   ]
  },
  {
   "cell_type": "code",
   "execution_count": 13,
   "metadata": {},
   "outputs": [
    {
     "name": "stderr",
     "output_type": "stream",
     "text": [
      "100%|██████████| 100/100 [06:51<00:00,  4.12s/it]\n"
     ]
    }
   ],
   "source": [
    "model = Net()\n",
    "for i in tqdm(range(100)):   \n",
    "    train(model, train_loader, optim.Adam(model.parameters(), lr=0.01), model.loss)"
   ]
  },
  {
   "cell_type": "code",
   "execution_count": 14,
   "metadata": {},
   "outputs": [
    {
     "data": {
      "text/plain": [
       "[19758.72050817072,\n",
       " 5754.856622906894,\n",
       " 4424.91619383939,\n",
       " 4009.783616076743,\n",
       " 3839.5196818745703,\n",
       " 3737.808386395801,\n",
       " 3768.7708074772063,\n",
       " 3698.282744534667,\n",
       " 3579.0514426823393,\n",
       " 3661.143484593514,\n",
       " 3642.336345595108,\n",
       " 3508.2671441278394,\n",
       " 3499.481085301522,\n",
       " 3584.292244525849,\n",
       " 3499.3731944340348,\n",
       " 3495.8569237771476,\n",
       " 3408.37505755629,\n",
       " 3450.865276362503,\n",
       " 3381.2474050758656,\n",
       " 3383.88324763382,\n",
       " 3420.0224437498346,\n",
       " 3356.6895710447843,\n",
       " 3315.971297356668,\n",
       " 3347.091629544984,\n",
       " 3357.8494363616874,\n",
       " 3361.7704934837047,\n",
       " 3409.2273766235626,\n",
       " 3309.4368046401046,\n",
       " 3349.8117654081393,\n",
       " 3299.485061206344,\n",
       " 3303.8249806905706,\n",
       " 3305.7186788382432,\n",
       " 3288.777701556548,\n",
       " 3355.632531857114,\n",
       " 3324.1008796778005,\n",
       " 3311.843706255842,\n",
       " 3292.155870631371,\n",
       " 3341.829674714306,\n",
       " 3299.59048730579,\n",
       " 3400.0837961717866,\n",
       " 3329.1106008353136,\n",
       " 3349.1330714860833,\n",
       " 3318.0656471682996,\n",
       " 3255.4604622386646,\n",
       " 3314.5015563964844,\n",
       " 3326.221072745915,\n",
       " 3288.893240900664,\n",
       " 3285.4334219766793,\n",
       " 3351.303629683587,\n",
       " 3283.9593651902865,\n",
       " 3268.010442557238,\n",
       " 3324.1953295154444,\n",
       " 3301.3485270386086,\n",
       " 3274.8143527201014,\n",
       " 3270.87077429709,\n",
       " 3316.3044344727664,\n",
       " 3277.5038982589413,\n",
       " 3291.499366949697,\n",
       " 3298.2507010776358,\n",
       " 3255.956615129389,\n",
       " 3282.4982807168035,\n",
       " 3296.812612667041,\n",
       " 3258.93060340623,\n",
       " 3273.0625824077943,\n",
       " 3230.2949894545577,\n",
       " 3250.035002215452,\n",
       " 3288.2552737199426,\n",
       " 3233.3895045295526,\n",
       " 3282.465343363398,\n",
       " 3254.1341373279993,\n",
       " 3280.454041078451,\n",
       " 3231.361494766132,\n",
       " 3240.236560520146,\n",
       " 3264.7394286213826,\n",
       " 3256.3533783647867,\n",
       " 3242.42989437198,\n",
       " 3257.3392871314195,\n",
       " 3265.8902821077986,\n",
       " 3286.8234674871373,\n",
       " 3274.228351188298,\n",
       " 3241.3595074724667,\n",
       " 3243.6892037488537,\n",
       " 3228.145059348767,\n",
       " 3247.937621829203,\n",
       " 3306.100105991751,\n",
       " 3231.999415033827,\n",
       " 3261.266520894139,\n",
       " 3286.6449661771544,\n",
       " 3235.4755315845223,\n",
       " 3239.9574435817467,\n",
       " 3232.617700787753,\n",
       " 3279.3786757148414,\n",
       " 3228.467594224228,\n",
       " 3222.364162849788,\n",
       " 3237.648147307454,\n",
       " 3221.686798577922,\n",
       " 3249.9220563143695,\n",
       " 3234.8385979714835,\n",
       " 3208.4095711804944,\n",
       " 3250.8635504660165]"
      ]
     },
     "execution_count": 14,
     "metadata": {},
     "output_type": "execute_result"
    }
   ],
   "source": [
    "loss_list"
   ]
  },
  {
   "cell_type": "code",
   "execution_count": 15,
   "metadata": {},
   "outputs": [
    {
     "data": {
      "image/png": "[encoded data removed]",
      "text/plain": [
       "<Figure size 640x480 with 1 Axes>"
      ]
     },
     "metadata": {},
     "output_type": "display_data"
    }
   ],
   "source": [
    "plt.plot(loss_list)\n",
    "plt.title('Training Loss')\n",
    "plt.xlabel('Epoch')\n",
    "plt.ylabel('Loss')\n",
    "plt.show()"
   ]
  },
  {
   "cell_type": "code",
   "execution_count": 16,
   "metadata": {},
   "outputs": [
    {
     "name": "stderr",
     "output_type": "stream",
     "text": [
      "C:\\Users\\charl\\AppData\\Local\\Temp\\ipykernel_49576\\2067007474.py:6: UserWarning: To copy construct from a tensor, it is recommended to use sourceTensor.clone().detach() or sourceTensor.clone().detach().requires_grad_(True), rather than torch.tensor(sourceTensor).\n",
      "  x = torch.tensor(x, dtype=torch.float32)\n"
     ]
    },
    {
     "name": "stdout",
     "output_type": "stream",
     "text": [
      "3127.136962890625\n"
     ]
    }
   ],
   "source": [
    "# test\n",
    "model.eval()\n",
    "predictions = []\n",
    "for x in X_test:\n",
    "    x = x.reshape(1, 218)\n",
    "    x = torch.tensor(x, dtype=torch.float32)\n",
    "    y_pred = model.forward(x)\n",
    "    predictions.append(y_pred.item())\n",
    "\n",
    "model.score = model.loss(torch.tensor(predictions, dtype=torch.float32), y_test.squeeze())\n",
    "print(model.score.item())"
   ]
  },
  {
   "cell_type": "code",
   "execution_count": 17,
   "metadata": {},
   "outputs": [
    {
     "name": "stdout",
     "output_type": "stream",
     "text": [
      "0.8918932494608218\n"
     ]
    }
   ],
   "source": [
    "r = np.corrcoef(predictions, y_test.squeeze())\n",
    "print(r[0][1] ** 2)"
   ]
  },
  {
   "cell_type": "code",
   "execution_count": 18,
   "metadata": {},
   "outputs": [
    {
     "data": {
      "image/png": "[encoded data removed]",
      "text/plain": [
       "<Figure size 640x480 with 1 Axes>"
      ]
     },
     "metadata": {},
     "output_type": "display_data"
    }
   ],
   "source": [
    "plt.scatter(y_test, predictions)\n",
    "plt.xlabel('True Values')\n",
    "plt.ylabel('Predictions')\n",
    "plt.title('True vs Predicted Totals')\n",
    "plt.show()"
   ]
  }
 ],
 "metadata": {
  "kernelspec": {
   "display_name": "Python 3",
   "language": "python",
   "name": "python3"
  },
  "language_info": {
   "codemirror_mode": {
    "name": "ipython",
    "version": 3
   },
   "file_extension": ".py",
   "mimetype": "text/x-python",
   "name": "python",
   "nbconvert_exporter": "python",
   "pygments_lexer": "ipython3",
   "version": "3.10.0"
  }
 },
 "nbformat": 4,
 "nbformat_minor": 2
}
