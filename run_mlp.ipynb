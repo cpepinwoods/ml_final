{
 "cells": [
  {
   "cell_type": "code",
   "execution_count": 2,
   "metadata": {},
   "outputs": [],
   "source": [
    "import pandas as pd\n",
    "import numpy as np\n",
    "import matplotlib.pyplot as plt\n",
    "from tqdm import tqdm"
   ]
  },
  {
   "cell_type": "code",
   "execution_count": 3,
   "metadata": {},
   "outputs": [],
   "source": [
    "from sklearn.model_selection import train_test_split\n",
    "import torch\n",
    "import torch.nn as nn\n",
    "import torch.optim as optim\n",
    "from torchinfo import summary"
   ]
  },
  {
   "cell_type": "code",
   "execution_count": 4,
   "metadata": {},
   "outputs": [],
   "source": [
    "HIDDEN_UNITS = 256\n",
    "INPUT_UNITS = 218"
   ]
  },
  {
   "cell_type": "code",
   "execution_count": 5,
   "metadata": {},
   "outputs": [],
   "source": [
    "class Net(nn.Module):\n",
    "    def __init__(self):\n",
    "        super(Net, self).__init__()\n",
    "        self.hidden1 = nn.Linear(INPUT_UNITS, 2 * HIDDEN_UNITS)\n",
    "        self.hidden_active1 = nn.ReLU()\n",
    "        self.hidden2 = nn.Linear(2 * HIDDEN_UNITS, HIDDEN_UNITS)\n",
    "        self.hidden_active2 = nn.ReLU()\n",
    "        self.hidden3 = nn.Linear(HIDDEN_UNITS, HIDDEN_UNITS)\n",
    "        self.hidden_active3 = nn.ReLU()\n",
    "        self.hidden4 = nn.Linear(HIDDEN_UNITS, HIDDEN_UNITS)\n",
    "        self.hidden_active4 = nn.ReLU()\n",
    "        self.out = nn.Linear(HIDDEN_UNITS, 1)\n",
    "        self.loss = nn.MSELoss()\n",
    "\n",
    "    def forward(self, x):\n",
    "        x = self.hidden1(x)\n",
    "        x = self.hidden_active1(x)\n",
    "        x = self.hidden2(x)\n",
    "        x = self.hidden_active2(x)\n",
    "        x = self.hidden3(x)\n",
    "        x = self.hidden_active3(x)\n",
    "        x = self.hidden4(x)\n",
    "        x = self.hidden_active4(x)\n",
    "        x = self.out(x)\n",
    "        return x"
   ]
  },
  {
   "cell_type": "code",
   "execution_count": 6,
   "metadata": {},
   "outputs": [
    {
     "data": {
      "text/plain": [
       "==========================================================================================\n",
       "Layer (type:depth-idx)                   Output Shape              Param #\n",
       "==========================================================================================\n",
       "Net                                      [1, 1]                    --\n",
       "├─Linear: 1-1                            [1, 512]                  112,128\n",
       "├─ReLU: 1-2                              [1, 512]                  --\n",
       "├─Linear: 1-3                            [1, 256]                  131,328\n",
       "├─ReLU: 1-4                              [1, 256]                  --\n",
       "├─Linear: 1-5                            [1, 256]                  65,792\n",
       "├─ReLU: 1-6                              [1, 256]                  --\n",
       "├─Linear: 1-7                            [1, 256]                  65,792\n",
       "├─ReLU: 1-8                              [1, 256]                  --\n",
       "├─Linear: 1-9                            [1, 1]                    257\n",
       "==========================================================================================\n",
       "Total params: 375,297\n",
       "Trainable params: 375,297\n",
       "Non-trainable params: 0\n",
       "Total mult-adds (M): 0.38\n",
       "==========================================================================================\n",
       "Input size (MB): 0.00\n",
       "Forward/backward pass size (MB): 0.01\n",
       "Params size (MB): 1.50\n",
       "Estimated Total Size (MB): 1.51\n",
       "=========================================================================================="
      ]
     },
     "execution_count": 6,
     "metadata": {},
     "output_type": "execute_result"
    }
   ],
   "source": [
    "model = Net()\n",
    "summary(model, input_size=(1, 218))"
   ]
  },
  {
   "cell_type": "code",
   "execution_count": 7,
   "metadata": {},
   "outputs": [],
   "source": [
    "X = pd.read_csv('X_10_no_bombs.csv')\n",
    "y = pd.read_csv('y_10_no_bombs.csv')\n",
    "\n",
    "X_train, X_test, y_train, y_test = train_test_split(X, y, test_size=0.2, random_state=42)"
   ]
  },
  {
   "cell_type": "code",
   "execution_count": 8,
   "metadata": {},
   "outputs": [
    {
     "name": "stdout",
     "output_type": "stream",
     "text": [
      "(35405, 218)\n",
      "(35405, 218)\n"
     ]
    }
   ],
   "source": [
    "print(X.shape)\n",
    "X.dropna(inplace=True)\n",
    "print(X.shape)"
   ]
  },
  {
   "cell_type": "code",
   "execution_count": 9,
   "metadata": {},
   "outputs": [],
   "source": [
    "X_train = X_train.values\n",
    "X_test = X_test.values\n",
    "y_train = y_train.values\n",
    "y_test = y_test.values"
   ]
  },
  {
   "cell_type": "code",
   "execution_count": 10,
   "metadata": {},
   "outputs": [],
   "source": [
    "X_train = torch.tensor(X_train, dtype=torch.float32)\n",
    "y_train = torch.tensor(y_train, dtype=torch.float32)\n",
    "\n",
    "X_test = torch.tensor(X_test, dtype=torch.float32)\n",
    "y_test = torch.tensor(y_test, dtype=torch.float32)"
   ]
  },
  {
   "cell_type": "code",
   "execution_count": 11,
   "metadata": {},
   "outputs": [
    {
     "data": {
      "text/plain": [
       "torch.Size([28324, 218])"
      ]
     },
     "execution_count": 11,
     "metadata": {},
     "output_type": "execute_result"
    }
   ],
   "source": [
    "X_train.shape"
   ]
  },
  {
   "cell_type": "code",
   "execution_count": 12,
   "metadata": {},
   "outputs": [],
   "source": [
    "BATCH_SIZE = 32\n",
    "train_dataset = torch.utils.data.TensorDataset(X_train, y_train)\n",
    "train_loader = torch.utils.data.DataLoader(train_dataset, batch_size=BATCH_SIZE, shuffle=True)\n",
    "test_dataset = torch.utils.data.TensorDataset(X_test, y_test)\n",
    "test_loader = torch.utils.data.DataLoader(test_dataset, batch_size=BATCH_SIZE, shuffle=False)\n",
    "loss_list = []\n",
    "def train(model, train_loader, optimizer, criterion):\n",
    "    model.train()\n",
    "    running_loss = 0.0\n",
    "    for batch_idx, (data, target) in enumerate(train_loader):\n",
    "        optimizer.zero_grad()\n",
    "        output = model(data)\n",
    "        loss = criterion(output, target)\n",
    "        loss.backward()\n",
    "        optimizer.step()\n",
    "        running_loss += loss.item()\n",
    "    loss_list.append(running_loss / len(train_loader))"
   ]
  },
  {
   "cell_type": "code",
   "execution_count": 13,
   "metadata": {},
   "outputs": [
    {
     "name": "stderr",
     "output_type": "stream",
     "text": [
      "100%|██████████| 100/100 [06:29<00:00,  3.90s/it]\n"
     ]
    }
   ],
   "source": [
    "model = Net()\n",
    "for i in tqdm(range(100)):   \n",
    "    train(model, train_loader, optim.Adam(model.parameters(), lr=0.01), model.loss)"
   ]
  },
  {
   "cell_type": "code",
   "execution_count": 14,
   "metadata": {},
   "outputs": [
    {
     "data": {
      "text/plain": [
       "[32763.52012582611,\n",
       " 4967.942342719429,\n",
       " 4282.342727626688,\n",
       " 3980.1505649127485,\n",
       " 3855.4424859040478,\n",
       " 3864.1625956929297,\n",
       " 3694.7776989387876,\n",
       " 3735.50496551307,\n",
       " 3652.7888602263233,\n",
       " 3588.940027241244,\n",
       " 3595.008058121726,\n",
       " 3648.3100528071213,\n",
       " 3611.55158400697,\n",
       " 3498.7889569973568,\n",
       " 3444.3016717019523,\n",
       " 3424.678699433131,\n",
       " 3466.0041391962536,\n",
       " 3464.5007754082603,\n",
       " 3502.122884952726,\n",
       " 3437.502927000851,\n",
       " 3428.00319027524,\n",
       " 3434.4550044832595,\n",
       " 3443.4797881322306,\n",
       " 3404.9830917806175,\n",
       " 3370.0846438784633,\n",
       " 3405.270209129454,\n",
       " 3343.867432949505,\n",
       " 3328.756739907017,\n",
       " 3328.4268737861858,\n",
       " 3332.5729433494553,\n",
       " 3333.400716019538,\n",
       " 3387.1434280705507,\n",
       " 3400.8324279096273,\n",
       " 3354.5137246779877,\n",
       " 3361.6238146366436,\n",
       " 3327.799034032542,\n",
       " 3340.236179257085,\n",
       " 3297.056706206793,\n",
       " 3382.204741846089,\n",
       " 3314.330628543621,\n",
       " 3391.432008351483,\n",
       " 3313.8773794411,\n",
       " 3331.2381087189065,\n",
       " 3339.235831714914,\n",
       " 3345.546166792411,\n",
       " 3328.912583361899,\n",
       " 3298.857934990532,\n",
       " 3333.3943745632473,\n",
       " 3272.1014621467675,\n",
       " 3310.099077762922,\n",
       " 3320.1954318492194,\n",
       " 3274.511437375174,\n",
       " 3289.3349471942565,\n",
       " 3262.548269508655,\n",
       " 3314.014280366575,\n",
       " 3313.4254206190258,\n",
       " 3292.766700692963,\n",
       " 3327.9757204766197,\n",
       " 3273.8675114134367,\n",
       " 3311.5385192802205,\n",
       " 3300.151094423729,\n",
       " 3276.0008625176906,\n",
       " 3243.028583741888,\n",
       " 3263.988323581945,\n",
       " 3278.189480129268,\n",
       " 3271.333774058598,\n",
       " 3293.001464017089,\n",
       " 3290.2861780033154,\n",
       " 3288.4298105347507,\n",
       " 3296.06906400039,\n",
       " 3255.8621165876193,\n",
       " 3280.514698002731,\n",
       " 3253.04310018914,\n",
       " 3326.0062975399114,\n",
       " 3257.5890138854293,\n",
       " 3221.3418055893876,\n",
       " 3308.9004000282716,\n",
       " 3289.119431127544,\n",
       " 3308.975900361554,\n",
       " 3281.562791139762,\n",
       " 3244.0446699155373,\n",
       " 3271.21365745665,\n",
       " 3278.504278970895,\n",
       " 3210.822820073595,\n",
       " 3263.7368558448807,\n",
       " 3243.98042850193,\n",
       " 3260.513573330089,\n",
       " 3193.7423966452984,\n",
       " 3206.643023970972,\n",
       " 3248.5518095477173,\n",
       " 3272.8137045832304,\n",
       " 3213.140793053345,\n",
       " 3257.370678593827,\n",
       " 3258.411961437079,\n",
       " 3252.4588224871704,\n",
       " 3257.777378228663,\n",
       " 3242.4483022237737,\n",
       " 3273.3991944117147,\n",
       " 3253.421933796282,\n",
       " 3244.444079328068]"
      ]
     },
     "execution_count": 14,
     "metadata": {},
     "output_type": "execute_result"
    }
   ],
   "source": [
    "loss_list"
   ]
  },
  {
   "cell_type": "code",
   "execution_count": 15,
   "metadata": {},
   "outputs": [
    {
     "data": {
      "image/png": "[encoded data removed]",
      "text/plain": [
       "<Figure size 640x480 with 1 Axes>"
      ]
     },
     "metadata": {},
     "output_type": "display_data"
    }
   ],
   "source": [
    "plt.plot(loss_list)\n",
    "plt.title('Training Loss')\n",
    "plt.xlabel('Epoch')\n",
    "plt.ylabel('Loss')\n",
    "plt.show()"
   ]
  },
  {
   "cell_type": "code",
   "execution_count": 16,
   "metadata": {},
   "outputs": [
    {
     "name": "stderr",
     "output_type": "stream",
     "text": [
      "C:\\Users\\charl\\AppData\\Local\\Temp\\ipykernel_82316\\2067007474.py:6: UserWarning: To copy construct from a tensor, it is recommended to use sourceTensor.clone().detach() or sourceTensor.clone().detach().requires_grad_(True), rather than torch.tensor(sourceTensor).\n",
      "  x = torch.tensor(x, dtype=torch.float32)\n"
     ]
    },
    {
     "name": "stdout",
     "output_type": "stream",
     "text": [
      "3053.041015625\n"
     ]
    }
   ],
   "source": [
    "# test\n",
    "model.eval()\n",
    "predictions = []\n",
    "for x in X_test:\n",
    "    x = x.reshape(1, 218)\n",
    "    x = torch.tensor(x, dtype=torch.float32)\n",
    "    y_pred = model.forward(x)\n",
    "    predictions.append(y_pred.item())\n",
    "\n",
    "model.score = model.loss(torch.tensor(predictions, dtype=torch.float32), y_test.squeeze())\n",
    "print(model.score.item())"
   ]
  },
  {
   "cell_type": "code",
   "execution_count": 17,
   "metadata": {},
   "outputs": [
    {
     "name": "stdout",
     "output_type": "stream",
     "text": [
      "0.8919071361177762\n"
     ]
    }
   ],
   "source": [
    "r = np.corrcoef(predictions, y_test.squeeze())\n",
    "print(r[0][1] ** 2)"
   ]
  },
  {
   "cell_type": "code",
   "execution_count": 20,
   "metadata": {},
   "outputs": [
    {
     "name": "stdout",
     "output_type": "stream",
     "text": [
      "0.8917089031321114\n"
     ]
    }
   ],
   "source": [
    "# calculate R^2\n",
    "def r_squared(y_true, y_pred):\n",
    "    ss_res = np.sum((y_true - y_pred) ** 2)\n",
    "    ss_tot = np.sum((y_true - np.mean(y_true)) ** 2)\n",
    "    return 1 - (ss_res / ss_tot)\n",
    "r2 = r_squared(np.array(y_test.squeeze().tolist()), np.array(predictions))\n",
    "print(r2)"
   ]
  },
  {
   "cell_type": "code",
   "execution_count": null,
   "metadata": {},
   "outputs": [
    {
     "data": {
      "image/png": "[encoded data removed]",
      "text/plain": [
       "<Figure size 640x480 with 1 Axes>"
      ]
     },
     "metadata": {},
     "output_type": "display_data"
    }
   ],
   "source": [
    "plt.scatter(y_test, predictions)\n",
    "plt.xlabel('True Values')\n",
    "plt.ylabel('Predictions')\n",
    "plt.title('True vs Predicted Totals')\n",
    "plt.show()"
   ]
  }
 ],
 "metadata": {
  "kernelspec": {
   "display_name": "Python 3",
   "language": "python",
   "name": "python3"
  },
  "language_info": {
   "codemirror_mode": {
    "name": "ipython",
    "version": 3
   },
   "file_extension": ".py",
   "mimetype": "text/x-python",
   "name": "python",
   "nbconvert_exporter": "python",
   "pygments_lexer": "ipython3",
   "version": "3.10.0"
  }
 },
 "nbformat": 4,
 "nbformat_minor": 2
}
